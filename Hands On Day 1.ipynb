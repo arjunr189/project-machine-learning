{
 "cells": [
  {
   "cell_type": "code",
   "execution_count": 1,
   "id": "26c215ce-cecd-4600-8e96-b558ab1ce9ef",
   "metadata": {},
   "outputs": [],
   "source": [
    "#declare a variable\n",
    "#variables are the containers used to store any data types\n",
    "X=10"
   ]
  },
  {
   "cell_type": "code",
   "execution_count": 2,
   "id": "f6636adf-26c2-4704-933c-ad6eeb73afc0",
   "metadata": {},
   "outputs": [
    {
     "name": "stdout",
     "output_type": "stream",
     "text": [
      "10\n"
     ]
    }
   ],
   "source": [
    "# print the variable\n",
    "print(X)"
   ]
  },
  {
   "cell_type": "code",
   "execution_count": 3,
   "id": "78ac95ae-8f75-4b64-9bed-10571a1e5b37",
   "metadata": {},
   "outputs": [
    {
     "data": {
      "text/plain": [
       "int"
      ]
     },
     "execution_count": 3,
     "metadata": {},
     "output_type": "execute_result"
    }
   ],
   "source": [
    "#check the datatype of the variable\n",
    "type(X)"
   ]
  },
  {
   "cell_type": "code",
   "execution_count": 4,
   "id": "ad066c58-e8b1-4ee1-b68a-6078332bb4c4",
   "metadata": {},
   "outputs": [
    {
     "name": "stdout",
     "output_type": "stream",
     "text": [
      "datatype of the variable <class 'int'>\n"
     ]
    }
   ],
   "source": [
    "# creat an integer datatype\n",
    "int_1=20\n",
    "\n",
    "# show the datatype\n",
    "print('datatype of the variable',type(int_1))"
   ]
  },
  {
   "cell_type": "code",
   "execution_count": 5,
   "id": "0bd5c54f-278a-4814-ba70-b768146e005b",
   "metadata": {},
   "outputs": [
    {
     "name": "stdout",
     "output_type": "stream",
     "text": [
      "datatype of the variable  <class 'float'>\n"
     ]
    }
   ],
   "source": [
    "# creat an float datatype\n",
    "float_1=20.38\n",
    "\n",
    "# show the datatype\n",
    "print('datatype of the variable ',type(float_1))"
   ]
  },
  {
   "cell_type": "code",
   "execution_count": 6,
   "id": "dc5d04f3-488e-461c-89dd-17c8df3dee52",
   "metadata": {},
   "outputs": [
    {
     "name": "stdout",
     "output_type": "stream",
     "text": [
      "datatype of the variable  <class 'str'>\n"
     ]
    }
   ],
   "source": [
    "# creat an string datatype\n",
    "string_1='arjun'\n",
    "\n",
    "# show the datatype\n",
    "print('datatype of the variable ',type(string_1))"
   ]
  },
  {
   "cell_type": "code",
   "execution_count": 7,
   "id": "b3c89ab6-d45a-4845-9e74-b08c94965a64",
   "metadata": {},
   "outputs": [
    {
     "name": "stdout",
     "output_type": "stream",
     "text": [
      "datatype of the variable <class 'list'>\n",
      "datatype of the variable <class 'list'>\n",
      "datatype of the variable <class 'list'>\n"
     ]
    }
   ],
   "source": [
    "# create an list datatype\n",
    "list_1=[10,20,30,40]\n",
    "list_2=[10.30,20.46,30.39,40.60]\n",
    "list_3=['Arjun','Gokul','Ahamed ali','Gokula kannan']\n",
    "\n",
    "# show the datatype\n",
    "print('datatype of the variable',type(list_1))\n",
    "print('datatype of the variable',type(list_2))\n",
    "print('datatype of the variable',type(list_3))"
   ]
  },
  {
   "cell_type": "code",
   "execution_count": 8,
   "id": "aa986f03-36d6-45fe-95c5-22d9c9d71903",
   "metadata": {},
   "outputs": [
    {
     "name": "stdout",
     "output_type": "stream",
     "text": [
      "datatype of the variable <class 'tuple'>\n",
      "datatype of the variable <class 'tuple'>\n",
      "datatype of the variable <class 'tuple'>\n"
     ]
    }
   ],
   "source": [
    "# create an tuple datatype\n",
    "tuple_1=(10,20,30,40)\n",
    "tuple_2=(10.30,20.46,30.39,40.60)\n",
    "tuple_3=('Arjun','Gokul','Ahamed ali','Gokula kannan')\n",
    "\n",
    "# show the datatype\n",
    "print('datatype of the variable',type(tuple_1))\n",
    "print('datatype of the variable',type(tuple_2))\n",
    "print('datatype of the variable',type(tuple_3))"
   ]
  },
  {
   "cell_type": "code",
   "execution_count": 9,
   "id": "4cf4d47d-fda6-47cc-9fe4-7f9e75e9cd4e",
   "metadata": {},
   "outputs": [
    {
     "name": "stdout",
     "output_type": "stream",
     "text": [
      "datatype of the variable <class 'set'>\n",
      "datatype of the variable <class 'set'>\n",
      "datatype of the variable <class 'set'>\n"
     ]
    }
   ],
   "source": [
    "# create an set datatype\n",
    "set_1={10,20,30,40}\n",
    "set_2={10.30,20.46,30.39,40.60}\n",
    "set_3={'Arjun','Gokul','Ahamed ali','Gokula kannan'}\n",
    "\n",
    "# show the datatype\n",
    "print('datatype of the variable',type(set_1))\n",
    "print('datatype of the variable',type(set_2))\n",
    "print('datatype of the variable',type(set_3))"
   ]
  },
  {
   "cell_type": "code",
   "execution_count": 10,
   "id": "c76fccf5-17ff-4544-b9d8-d3cda99ccc49",
   "metadata": {},
   "outputs": [
    {
     "name": "stdout",
     "output_type": "stream",
     "text": [
      "datatype of the variable <class 'bool'>\n",
      "datatype of the variable <class 'bool'>\n"
     ]
    }
   ],
   "source": [
    "# creat an boolean datatype\n",
    "boolean_1=True\n",
    "boolean_2=False\n",
    "\n",
    "# show the datatype\n",
    "print('datatype of the variable',type(boolean_1))\n",
    "print('datatype of the variable',type(boolean_2))"
   ]
  },
  {
   "cell_type": "code",
   "execution_count": 11,
   "id": "e636cbf6-2784-487e-b346-2ba355beeb05",
   "metadata": {},
   "outputs": [
    {
     "name": "stdout",
     "output_type": "stream",
     "text": [
      "datatype of the variable <class 'dict'>\n"
     ]
    }
   ],
   "source": [
    "# creat an dictonary datatype\n",
    "dictonary_1={'list_1':[10,20,30,40],\n",
    "             'tuple_1':(10,20,30,40),\n",
    "             'set_1':{10,20,30,40}}\n",
    "\n",
    "#show the datatype\n",
    "print('datatype of the variable',type(dictonary_1))"
   ]
  },
  {
   "cell_type": "markdown",
   "id": "8bcd11c0-f31f-401a-b97a-7d63255a1785",
   "metadata": {},
   "source": [
    "# basic operation\n"
   ]
  },
  {
   "cell_type": "code",
   "execution_count": 13,
   "id": "07a06cd6-4100-44ab-aed6-a62f4f1ab9c2",
   "metadata": {},
   "outputs": [
    {
     "name": "stdout",
     "output_type": "stream",
     "text": [
      "datatype of the variable <class 'float'>\n",
      "datatype of the variable <class 'float'>\n"
     ]
    }
   ],
   "source": [
    "#Task 1:Type casting\n",
    "float_2=45.96\n",
    "\n",
    "#show the tadatype\n",
    "print('datatype of the variable',type(float_2))\n",
    "\n",
    "#typecasting\n",
    "int_2=int(float_2)\n",
    "\n",
    "#show the tadatype\n",
    "print('datatype of the variable',type(float_2))\n",
    "\n"
   ]
  },
  {
   "cell_type": "code",
   "execution_count": 14,
   "id": "a47b081c-a125-4875-8b35-70867c04499d",
   "metadata": {},
   "outputs": [
    {
     "name": "stdout",
     "output_type": "stream",
     "text": [
      "datatype of the variable <class 'int'>\n"
     ]
    }
   ],
   "source": [
    "#Task 1:Type casting\n",
    "int_3=5\n",
    "\n",
    "#show the tadatype\n",
    "print('datatype of the variable',type(int_3))\n",
    "\n",
    "#typecasting\n",
    "float_3=float(int_3)\n",
    "# "
   ]
  },
  {
   "cell_type": "code",
   "execution_count": 15,
   "id": "4ce9a3dc-2ee4-4ec6-9f47-005482ceebbe",
   "metadata": {},
   "outputs": [
    {
     "name": "stdout",
     "output_type": "stream",
     "text": [
      "rounded values are: 10.123\n"
     ]
    }
   ],
   "source": [
    "# Task2:use of round function\n",
    "float_4=10.1234567890\n",
    "\n",
    "# round this value till 3 decimal places\n",
    "rounded_value=round(float_4,3)\n",
    "\n",
    "# show the output\n",
    "print('rounded values are:',rounded_value)"
   ]
  },
  {
   "cell_type": "markdown",
   "id": "df017cbd-f988-4e3c-9bce-cdab7c3310d7",
   "metadata": {},
   "source": [
    "# Arithmetic operation on a data\n"
   ]
  },
  {
   "cell_type": "code",
   "execution_count": 17,
   "id": "a4d0bbb0-2ffa-4347-8f4b-b194fa6194ca",
   "metadata": {},
   "outputs": [
    {
     "name": "stdout",
     "output_type": "stream",
     "text": [
      "addition of two variables: 30\n"
     ]
    }
   ],
   "source": [
    "# Addition operation\n",
    "# declare the variable\n",
    "a=10\n",
    "b=20\n",
    "\n",
    "# perform the sum\n",
    "sum_1=a+b\n",
    "\n",
    "# show the output\n",
    "print('addition of two variables:',sum_1)"
   ]
  },
  {
   "cell_type": "code",
   "execution_count": 18,
   "id": "9beff58f-9be8-4d28-a2b6-d61eddc3ec1b",
   "metadata": {},
   "outputs": [
    {
     "name": "stdout",
     "output_type": "stream",
     "text": [
      "Subraction of two variables: 30\n"
     ]
    }
   ],
   "source": [
    "# Subraction operation\n",
    "# declare the variable\n",
    "a=50\n",
    "b=20\n",
    "\n",
    "# perform the sum\n",
    "sum_1=a-b\n",
    "\n",
    "# show the output\n",
    "print('Subraction of two variables:',sum_1)"
   ]
  },
  {
   "cell_type": "code",
   "execution_count": 19,
   "id": "e8c3b980-bdd3-47da-a518-6b83af100b69",
   "metadata": {},
   "outputs": [
    {
     "name": "stdout",
     "output_type": "stream",
     "text": [
      "Multiplication of two variables: 200\n"
     ]
    }
   ],
   "source": [
    "# Multiplication operation\n",
    "# declare the variable\n",
    "a=50\n",
    "b=4\n",
    "\n",
    "# perform the sum\n",
    "sum_1=a*b\n",
    "\n",
    "# show the output\n",
    "print('Multiplication of two variables:',sum_1)"
   ]
  },
  {
   "cell_type": "code",
   "execution_count": 20,
   "id": "2c00c481-4e2c-4064-bcb0-7f3864226e4e",
   "metadata": {},
   "outputs": [
    {
     "name": "stdout",
     "output_type": "stream",
     "text": [
      "Division of two variables: 5.0\n"
     ]
    }
   ],
   "source": [
    "# Division operation\n",
    "# declare the variable\n",
    "a=10\n",
    "b=2\n",
    "\n",
    "# perform the sum\n",
    "sum_1=a/b\n",
    "\n",
    "# show the output\n",
    "print('Division of two variables:',sum_1)"
   ]
  },
  {
   "cell_type": "markdown",
   "id": "fd77c7de-1533-44ef-9fd1-0fadf63a8d28",
   "metadata": {},
   "source": [
    "# user define functions "
   ]
  },
  {
   "cell_type": "code",
   "execution_count": 22,
   "id": "14137fdc-0b15-48b9-b417-8b081b4a8cb8",
   "metadata": {},
   "outputs": [
    {
     "data": {
      "text/plain": [
       "30"
      ]
     },
     "execution_count": 22,
     "metadata": {},
     "output_type": "execute_result"
    }
   ],
   "source": [
    "# declare the function named as 'summation',who can perform the addition in two numbers\n",
    "def summation():\n",
    "    x=10\n",
    "    y=20\n",
    "    summation=x+y\n",
    "    return summation\n",
    "\n",
    "# call the function\n",
    "summation()"
   ]
  },
  {
   "cell_type": "code",
   "execution_count": 23,
   "id": "77469c11-7017-4168-918a-d3805136d6e7",
   "metadata": {},
   "outputs": [
    {
     "data": {
      "text/plain": [
       "-10"
      ]
     },
     "execution_count": 23,
     "metadata": {},
     "output_type": "execute_result"
    }
   ],
   "source": [
    "# declare the function named as 'subraction',\n",
    "#  who can perform this subraction between two variables\n",
    "def subraction(x,y):\n",
    "    subraction=x-y\n",
    "    return subraction\n",
    "\n",
    "# call the function\n",
    "subraction(10,20)"
   ]
  },
  {
   "cell_type": "code",
   "execution_count": 24,
   "id": "c64d9b05-516b-46ba-93fa-5abc18872699",
   "metadata": {},
   "outputs": [
    {
     "name": "stdin",
     "output_type": "stream",
     "text": [
      "give the first number: 1\n",
      "give the second number: 1\n"
     ]
    },
    {
     "data": {
      "text/plain": [
       "1"
      ]
     },
     "execution_count": 24,
     "metadata": {},
     "output_type": "execute_result"
    }
   ],
   "source": [
    "# declare the function named as multiplication,\n",
    "# who can perform this multiplication between two variables\n",
    "# this time you need to take input from the user\n",
    "\n",
    "# take the input from the user\n",
    "var_2=int(input('give the first number:'))\n",
    "var_3=int(input('give the second number:'))\n",
    "\n",
    "# make the user defined function\n",
    "def multiplication(var_2,var_3):\n",
    "    mul=var_2*var_3\n",
    "    return mul\n",
    "#call the function\n",
    "multiplication(var_2,var_3)"
   ]
  },
  {
   "cell_type": "code",
   "execution_count": null,
   "id": "f0c6bbd4-e898-48dc-b27d-3cabe2892f7d",
   "metadata": {},
   "outputs": [],
   "source": []
  }
 ],
 "metadata": {
  "kernelspec": {
   "display_name": "Python 3 (ipykernel)",
   "language": "python",
   "name": "python3"
  },
  "language_info": {
   "codemirror_mode": {
    "name": "ipython",
    "version": 3
   },
   "file_extension": ".py",
   "mimetype": "text/x-python",
   "name": "python",
   "nbconvert_exporter": "python",
   "pygments_lexer": "ipython3",
   "version": "3.11.7"
  }
 },
 "nbformat": 4,
 "nbformat_minor": 5
}
