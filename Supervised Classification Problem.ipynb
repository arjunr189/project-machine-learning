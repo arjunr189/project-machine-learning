{
 "cells": [
  {
   "cell_type": "code",
   "execution_count": 1,
   "id": "802459b8-52fe-4a5a-9957-fec9c4c14a62",
   "metadata": {},
   "outputs": [],
   "source": [
    "# import numerical python \n",
    "import numpy as np\n",
    "\n",
    "# import the pandas\n",
    "import pandas as pd\n",
    "\n",
    "# import the seaborn\n",
    "import seaborn as sns\n",
    "\n",
    "# import the matplotlib\n",
    "import matplotlib.pyplot as plt"
   ]
  },
  {
   "cell_type": "code",
   "execution_count": 2,
   "id": "d860e0ed-601a-4639-a2bf-45de98df1c7f",
   "metadata": {},
   "outputs": [],
   "source": [
    "# load the data \n",
    "df_house_price=pd.read_csv('house_price1.csv')"
   ]
  },
  {
   "cell_type": "code",
   "execution_count": 3,
   "id": "1e454489-0586-41a0-9f75-d5eeb4720bd4",
   "metadata": {},
   "outputs": [
    {
     "data": {
      "text/html": [
       "<div>\n",
       "<style scoped>\n",
       "    .dataframe tbody tr th:only-of-type {\n",
       "        vertical-align: middle;\n",
       "    }\n",
       "\n",
       "    .dataframe tbody tr th {\n",
       "        vertical-align: top;\n",
       "    }\n",
       "\n",
       "    .dataframe thead th {\n",
       "        text-align: right;\n",
       "    }\n",
       "</style>\n",
       "<table border=\"1\" class=\"dataframe\">\n",
       "  <thead>\n",
       "    <tr style=\"text-align: right;\">\n",
       "      <th></th>\n",
       "      <th>price</th>\n",
       "      <th>resid_area</th>\n",
       "      <th>air_qual</th>\n",
       "      <th>room_num</th>\n",
       "      <th>age</th>\n",
       "      <th>distance</th>\n",
       "      <th>teachers</th>\n",
       "      <th>poor_prop</th>\n",
       "      <th>airport</th>\n",
       "      <th>n_hos_beds</th>\n",
       "      <th>n_hot_rooms</th>\n",
       "      <th>waterbody</th>\n",
       "      <th>rainfall</th>\n",
       "      <th>bus_ter</th>\n",
       "      <th>Sold</th>\n",
       "    </tr>\n",
       "  </thead>\n",
       "  <tbody>\n",
       "    <tr>\n",
       "      <th>0</th>\n",
       "      <td>24.0</td>\n",
       "      <td>32.31</td>\n",
       "      <td>0.538</td>\n",
       "      <td>6.575</td>\n",
       "      <td>65.2</td>\n",
       "      <td>4.35</td>\n",
       "      <td>24.7</td>\n",
       "      <td>4.98</td>\n",
       "      <td>YES</td>\n",
       "      <td>5.480</td>\n",
       "      <td>11.1920</td>\n",
       "      <td>River</td>\n",
       "      <td>23</td>\n",
       "      <td>YES</td>\n",
       "      <td>0</td>\n",
       "    </tr>\n",
       "    <tr>\n",
       "      <th>1</th>\n",
       "      <td>21.6</td>\n",
       "      <td>37.07</td>\n",
       "      <td>0.469</td>\n",
       "      <td>6.421</td>\n",
       "      <td>78.9</td>\n",
       "      <td>4.99</td>\n",
       "      <td>22.2</td>\n",
       "      <td>9.14</td>\n",
       "      <td>NO</td>\n",
       "      <td>7.332</td>\n",
       "      <td>12.1728</td>\n",
       "      <td>Lake</td>\n",
       "      <td>42</td>\n",
       "      <td>YES</td>\n",
       "      <td>1</td>\n",
       "    </tr>\n",
       "    <tr>\n",
       "      <th>2</th>\n",
       "      <td>34.7</td>\n",
       "      <td>37.07</td>\n",
       "      <td>0.469</td>\n",
       "      <td>7.185</td>\n",
       "      <td>61.1</td>\n",
       "      <td>5.03</td>\n",
       "      <td>22.2</td>\n",
       "      <td>4.03</td>\n",
       "      <td>NO</td>\n",
       "      <td>7.394</td>\n",
       "      <td>101.1200</td>\n",
       "      <td>NaN</td>\n",
       "      <td>38</td>\n",
       "      <td>YES</td>\n",
       "      <td>0</td>\n",
       "    </tr>\n",
       "    <tr>\n",
       "      <th>3</th>\n",
       "      <td>33.4</td>\n",
       "      <td>32.18</td>\n",
       "      <td>0.458</td>\n",
       "      <td>6.998</td>\n",
       "      <td>45.8</td>\n",
       "      <td>6.21</td>\n",
       "      <td>21.3</td>\n",
       "      <td>2.94</td>\n",
       "      <td>YES</td>\n",
       "      <td>9.268</td>\n",
       "      <td>11.2672</td>\n",
       "      <td>Lake</td>\n",
       "      <td>45</td>\n",
       "      <td>YES</td>\n",
       "      <td>0</td>\n",
       "    </tr>\n",
       "    <tr>\n",
       "      <th>4</th>\n",
       "      <td>36.2</td>\n",
       "      <td>32.18</td>\n",
       "      <td>0.458</td>\n",
       "      <td>7.147</td>\n",
       "      <td>54.2</td>\n",
       "      <td>6.16</td>\n",
       "      <td>21.3</td>\n",
       "      <td>5.33</td>\n",
       "      <td>NO</td>\n",
       "      <td>8.824</td>\n",
       "      <td>11.2896</td>\n",
       "      <td>Lake</td>\n",
       "      <td>55</td>\n",
       "      <td>YES</td>\n",
       "      <td>0</td>\n",
       "    </tr>\n",
       "  </tbody>\n",
       "</table>\n",
       "</div>"
      ],
      "text/plain": [
       "   price  resid_area  air_qual  room_num   age  distance  teachers  poor_prop  \\\n",
       "0   24.0       32.31     0.538     6.575  65.2      4.35      24.7       4.98   \n",
       "1   21.6       37.07     0.469     6.421  78.9      4.99      22.2       9.14   \n",
       "2   34.7       37.07     0.469     7.185  61.1      5.03      22.2       4.03   \n",
       "3   33.4       32.18     0.458     6.998  45.8      6.21      21.3       2.94   \n",
       "4   36.2       32.18     0.458     7.147  54.2      6.16      21.3       5.33   \n",
       "\n",
       "  airport  n_hos_beds  n_hot_rooms waterbody  rainfall bus_ter  Sold  \n",
       "0     YES       5.480      11.1920     River        23     YES     0  \n",
       "1      NO       7.332      12.1728      Lake        42     YES     1  \n",
       "2      NO       7.394     101.1200       NaN        38     YES     0  \n",
       "3     YES       9.268      11.2672      Lake        45     YES     0  \n",
       "4      NO       8.824      11.2896      Lake        55     YES     0  "
      ]
     },
     "execution_count": 3,
     "metadata": {},
     "output_type": "execute_result"
    }
   ],
   "source": [
    "# show the first five observations of the data\n",
    "df_house_price.head()"
   ]
  },
  {
   "cell_type": "code",
   "execution_count": 4,
   "id": "2ed77cc1-5c9b-468b-8b2e-6afce99faefd",
   "metadata": {},
   "outputs": [],
   "source": [
    "dictionary={\n",
    "    'price':'Price',\n",
    "    'resid_area':'Residential_Area',\n",
    "    'air_qual':'Air_Quality',\n",
    "    'room_num':'Room_Number',\n",
    "    'age':'Age',\n",
    "    'distance':'Distance',\n",
    "    'teachers':'Teachers',\n",
    "    'poor_prop':'Poor_Property',\n",
    "    'airport':'Airport',\n",
    "    'n_hos_beds':'N_Hospital_Beds',\n",
    "    'n_hot_room':'N_Hotel_Room',\n",
    "    'waterbody':'Waterbody',\n",
    "    'rainfall':'Rainfall',\n",
    "    'bus_ter':'Bus_Ter',\n",
    "    'sold':'Sold',\n",
    "}\n"
   ]
  },
  {
   "cell_type": "code",
   "execution_count": 5,
   "id": "14c01629-01a2-483a-b2ab-3b36982fcfa8",
   "metadata": {},
   "outputs": [],
   "source": [
    "# perform the rename action\n",
    "df_house_price=df_house_price.rename(columns=dictionary)"
   ]
  },
  {
   "cell_type": "code",
   "execution_count": 6,
   "id": "3dde8d6e-25cc-4e67-99ca-9fdde4143840",
   "metadata": {},
   "outputs": [],
   "source": [
    "# lets treat the null values in waterbody column\n",
    "df_house_price.Waterbody.fillna('River',inplace=True)"
   ]
  },
  {
   "cell_type": "code",
   "execution_count": 7,
   "id": "ce4e360e-45f9-4bc4-974c-410a493a817c",
   "metadata": {},
   "outputs": [],
   "source": [
    "# In N_Hospital_Beds,We have lets than 10% of data is missing\n",
    "df_house_price.dropna(inplace=True)"
   ]
  },
  {
   "cell_type": "code",
   "execution_count": 8,
   "id": "1d4cb436-0581-44f1-906f-fa87cd264566",
   "metadata": {},
   "outputs": [],
   "source": [
    "df_target=df_house_price['Sold']"
   ]
  },
  {
   "cell_type": "code",
   "execution_count": 9,
   "id": "d5203105-2c35-4444-8ef9-426b3e68bd81",
   "metadata": {},
   "outputs": [],
   "source": [
    "df_feature=df_house_price.drop('Sold',axis=1)"
   ]
  },
  {
   "cell_type": "code",
   "execution_count": 10,
   "id": "d608ef2a-9f80-485e-921a-d9b8d29f32b5",
   "metadata": {},
   "outputs": [],
   "source": [
    "# segregate the data based on the datatype\n",
    "df_num=df_house_price.select_dtypes(include='number')\n",
    "df_cat=df_house_price.select_dtypes(include='object')"
   ]
  },
  {
   "cell_type": "code",
   "execution_count": 11,
   "id": "7fe8c41c-043b-4cbc-9403-7ad773673627",
   "metadata": {},
   "outputs": [],
   "source": [
    "# use Dummy encoding\n",
    "df_encoded=pd.get_dummies(df_cat)\n",
    "# reset the index\n",
    "df_encoded=df_encoded.reset_index()"
   ]
  },
  {
   "cell_type": "code",
   "execution_count": 12,
   "id": "9b1c9945-23c7-430e-a240-64c4e3ec12d4",
   "metadata": {},
   "outputs": [],
   "source": [
    "# import the standard scalar\n",
    "from sklearn.preprocessing import StandardScaler\n",
    "\n",
    "# initiate the standard scalar\n",
    "ss = StandardScaler()"
   ]
  },
  {
   "cell_type": "code",
   "execution_count": 13,
   "id": "a7c91f05-2c70-4957-b6c5-7feef833d640",
   "metadata": {},
   "outputs": [],
   "source": [
    "scaled=ss.fit_transform(df_num)"
   ]
  },
  {
   "cell_type": "code",
   "execution_count": 14,
   "id": "19eb1884-5bb5-4b92-ae58-ea41e77bbf17",
   "metadata": {},
   "outputs": [],
   "source": [
    "# numerate the data into the dataframe\n",
    "scaled_df=pd.DataFrame(scaled,columns=df_num.columns)"
   ]
  },
  {
   "cell_type": "code",
   "execution_count": 15,
   "id": "323fef90-1998-46f5-a348-3b46a2480e7d",
   "metadata": {},
   "outputs": [],
   "source": [
    "# reset the index\n",
    "scaled_df=scaled_df.reset_index()"
   ]
  },
  {
   "cell_type": "code",
   "execution_count": 16,
   "id": "3f792f5c-b7f8-44fd-aa9e-20fbda3e63a1",
   "metadata": {},
   "outputs": [],
   "source": [
    "# concate encoded variable and scaled variable\n",
    "df_independent=pd.concat([df_encoded,scaled_df],axis=1)"
   ]
  },
  {
   "cell_type": "code",
   "execution_count": 17,
   "id": "3a81882c-d568-409b-89e0-c8da2cee50a1",
   "metadata": {},
   "outputs": [],
   "source": [
    "# import the train split\n",
    "from sklearn.model_selection import train_test_split"
   ]
  },
  {
   "cell_type": "code",
   "execution_count": 18,
   "id": "4a3e5ebd-3839-4c91-8a5e-f5983cef8565",
   "metadata": {},
   "outputs": [],
   "source": [
    "# split the data\n",
    "x_train,x_test,y_train,y_test=train_test_split(df_independent,df_target,test_size=0.2)"
   ]
  },
  {
   "cell_type": "markdown",
   "id": "eb30a37d-22b4-4c24-bb63-2307e99a4452",
   "metadata": {},
   "source": [
    "# Decision Tree Classfier"
   ]
  },
  {
   "cell_type": "code",
   "execution_count": 33,
   "id": "7b4fd4a6-a03a-4b68-8db4-02b0b985dfdc",
   "metadata": {},
   "outputs": [
    {
     "name": "stdout",
     "output_type": "stream",
     "text": [
      "              precision    recall  f1-score   support\n",
      "\n",
      "           0       1.00      1.00      1.00        53\n",
      "           1       1.00      1.00      1.00        47\n",
      "\n",
      "    accuracy                           1.00       100\n",
      "   macro avg       1.00      1.00      1.00       100\n",
      "weighted avg       1.00      1.00      1.00       100\n",
      "\n"
     ]
    }
   ],
   "source": [
    "from sklearn.tree import DecisionTreeClassifier\n",
    "from sklearn.metrics import classification_report\n",
    "\n",
    "# Create a Decision Tree Classifier\n",
    "tree_model=DecisionTreeClassifier()\n",
    "\n",
    "# Fit the model to the training data\n",
    "tree_model.fit(x_train,y_train)\n",
    "\n",
    "# Predict on the testing data\n",
    "predictions=tree_model.predict(x_test)\n",
    "\n",
    "# calculate classification_report\n",
    "class_report=classification_report(y_test,predictions)\n",
    "print(class_report)"
   ]
  },
  {
   "cell_type": "code",
   "execution_count": null,
   "id": "e4ffece7-fe93-426a-88f1-4e4ef55a8717",
   "metadata": {},
   "outputs": [],
   "source": []
  }
 ],
 "metadata": {
  "kernelspec": {
   "display_name": "Python 3 (ipykernel)",
   "language": "python",
   "name": "python3"
  },
  "language_info": {
   "codemirror_mode": {
    "name": "ipython",
    "version": 3
   },
   "file_extension": ".py",
   "mimetype": "text/x-python",
   "name": "python",
   "nbconvert_exporter": "python",
   "pygments_lexer": "ipython3",
   "version": "3.11.7"
  }
 },
 "nbformat": 4,
 "nbformat_minor": 5
}
